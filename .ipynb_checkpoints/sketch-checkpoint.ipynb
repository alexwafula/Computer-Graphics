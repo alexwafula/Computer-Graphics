{
 "cells": [
  {
   "cell_type": "markdown",
   "id": "c08bf8bc-5c7f-482a-8a99-a9c71e5ec356",
   "metadata": {},
   "source": [
    "#### Importing necesary packages"
   ]
  },
  {
   "cell_type": "code",
   "execution_count": 27,
   "id": "2f7b1dc9-a535-4bf1-855a-7262960191f2",
   "metadata": {},
   "outputs": [],
   "source": [
    "import pandas as pd\n",
    "import numpy as np\n",
    "import os\n",
    "import json\n",
    "\n",
    "#Google drive package\n",
    "from googleapiclient.discovery import build\n",
    "from google.oauth2 import service_account"
   ]
  },
  {
   "cell_type": "markdown",
   "id": "b3376344-7ed7-4bd4-8c7e-4a73fe404fa9",
   "metadata": {},
   "source": [
    "# QUESTION 1 - Python3 Development Environment"
   ]
  },
  {
   "cell_type": "markdown",
   "id": "62cdc360-2975-470b-aaff-3cc7cf049734",
   "metadata": {},
   "source": [
    "### Build a Python3 project with the structure of projects in PyCharm then import the MASSIVE Dataset mentioned on the Data File above. "
   ]
  },
  {
   "cell_type": "markdown",
   "id": "25ef4453-a439-433e-87df-6661741fb420",
   "metadata": {},
   "source": [
    "### generate a en-xx.xlxs file for all the languages. using the id, utt and the annot_utt."
   ]
  },
  {
   "cell_type": "code",
   "execution_count": 2,
   "id": "ad4a965b-2ad3-4403-b1d4-76ef27203c35",
   "metadata": {},
   "outputs": [],
   "source": [
    "pivoit_lang='data//en-US.jsonl'"
   ]
  },
  {
   "cell_type": "code",
   "execution_count": 23,
   "id": "aa0e32e8-7e21-4a58-9b25-d7ed052d5b17",
   "metadata": {},
   "outputs": [
    {
     "name": "stdout",
     "output_type": "stream",
     "text": [
      "['af-ZA.jsonl', 'am-ET.jsonl', 'ar-SA.jsonl', 'az-AZ.jsonl', 'bn-BD.jsonl', 'cy-GB.jsonl', 'da-DK.jsonl', 'de-DE.jsonl', 'el-GR.jsonl', 'en-US.jsonl', 'es-ES.jsonl', 'fa-IR.jsonl', 'fi-FI.jsonl', 'fr-FR.jsonl', 'he-IL.jsonl', 'hi-IN.jsonl', 'hu-HU.jsonl', 'hy-AM.jsonl', 'id-ID.jsonl', 'is-IS.jsonl', 'it-IT.jsonl', 'ja-JP.jsonl', 'jv-ID.jsonl', 'ka-GE.jsonl', 'km-KH.jsonl', 'kn-IN.jsonl', 'ko-KR.jsonl', 'lv-LV.jsonl', 'ml-IN.jsonl', 'mn-MN.jsonl', 'ms-MY.jsonl', 'my-MM.jsonl', 'nb-NO.jsonl', 'nl-NL.jsonl', 'pl-PL.jsonl', 'pt-PT.jsonl', 'ro-RO.jsonl', 'ru-RU.jsonl', 'sl-SL.jsonl', 'sq-AL.jsonl', 'sv-SE.jsonl', 'sw-KE.jsonl', 'ta-IN.jsonl', 'te-IN.jsonl', 'th-TH.jsonl', 'tl-PH.jsonl', 'tr-TR.jsonl', 'ur-PK.jsonl', 'vi-VN.jsonl', 'zh-CN.jsonl', 'zh-TW.jsonl']\n"
     ]
    }
   ],
   "source": [
    "list_of_files=os.listdir('data')\n",
    "print(list_of_files)"
   ]
  },
  {
   "cell_type": "code",
   "execution_count": 6,
   "id": "f5f00492-d0ad-4c5f-ae5b-c55587c97103",
   "metadata": {},
   "outputs": [],
   "source": [
    "swahili_data=pd.read_json('data//sw-KE.jsonl', lines=True)\n",
    "english_data=pd.read_json(pivoit_lang,lines=True)"
   ]
  },
  {
   "cell_type": "code",
   "execution_count": 9,
   "id": "4960f3ec-d1d0-489f-9975-644beb5ec07d",
   "metadata": {},
   "outputs": [
    {
     "data": {
      "text/html": [
       "<div>\n",
       "<style scoped>\n",
       "    .dataframe tbody tr th:only-of-type {\n",
       "        vertical-align: middle;\n",
       "    }\n",
       "\n",
       "    .dataframe tbody tr th {\n",
       "        vertical-align: top;\n",
       "    }\n",
       "\n",
       "    .dataframe thead th {\n",
       "        text-align: right;\n",
       "    }\n",
       "</style>\n",
       "<table border=\"1\" class=\"dataframe\">\n",
       "  <thead>\n",
       "    <tr style=\"text-align: right;\">\n",
       "      <th></th>\n",
       "      <th>id</th>\n",
       "      <th>utt</th>\n",
       "      <th>annot_utt</th>\n",
       "      <th>swahili_utt</th>\n",
       "    </tr>\n",
       "  </thead>\n",
       "  <tbody>\n",
       "    <tr>\n",
       "      <th>1022</th>\n",
       "      <td>1059</td>\n",
       "      <td>turn on the robot vacuum cleaner</td>\n",
       "      <td>turn on the robot vacuum cleaner</td>\n",
       "      <td>washa kifyonzi cha roboti</td>\n",
       "    </tr>\n",
       "    <tr>\n",
       "      <th>1066</th>\n",
       "      <td>1103</td>\n",
       "      <td>good afternoon</td>\n",
       "      <td>good afternoon</td>\n",
       "      <td>mchana mwema</td>\n",
       "    </tr>\n",
       "    <tr>\n",
       "      <th>12550</th>\n",
       "      <td>13014</td>\n",
       "      <td>show me a video about new mobile launches this...</td>\n",
       "      <td>show me a video about new mobile launches this...</td>\n",
       "      <td>nionyeshe video kuhusu simu mpya zilizoachiwa ...</td>\n",
       "    </tr>\n",
       "    <tr>\n",
       "      <th>867</th>\n",
       "      <td>903</td>\n",
       "      <td>find new music from jars of clay for me</td>\n",
       "      <td>find new music from jars of clay for me</td>\n",
       "      <td>nitafutie muziki mpya kutoka sam mangwana</td>\n",
       "    </tr>\n",
       "    <tr>\n",
       "      <th>2855</th>\n",
       "      <td>2956</td>\n",
       "      <td>what time are my alarms</td>\n",
       "      <td>what time are my alarms</td>\n",
       "      <td>kengele zangu ni za saa ngapi</td>\n",
       "    </tr>\n",
       "  </tbody>\n",
       "</table>\n",
       "</div>"
      ],
      "text/plain": [
       "          id                                                utt  \\\n",
       "1022    1059                   turn on the robot vacuum cleaner   \n",
       "1066    1103                                     good afternoon   \n",
       "12550  13014  show me a video about new mobile launches this...   \n",
       "867      903            find new music from jars of clay for me   \n",
       "2855    2956                            what time are my alarms   \n",
       "\n",
       "                                               annot_utt  \\\n",
       "1022                    turn on the robot vacuum cleaner   \n",
       "1066                                      good afternoon   \n",
       "12550  show me a video about new mobile launches this...   \n",
       "867              find new music from jars of clay for me   \n",
       "2855                             what time are my alarms   \n",
       "\n",
       "                                             swahili_utt  \n",
       "1022                           washa kifyonzi cha roboti  \n",
       "1066                                        mchana mwema  \n",
       "12550  nionyeshe video kuhusu simu mpya zilizoachiwa ...  \n",
       "867            nitafutie muziki mpya kutoka sam mangwana  \n",
       "2855                       kengele zangu ni za saa ngapi  "
      ]
     },
     "execution_count": 9,
     "metadata": {},
     "output_type": "execute_result"
    }
   ],
   "source": [
    "##New Data\n",
    "en_sw_dic={\n",
    "    'id':english_data.id,\n",
    "    'utt':english_data['utt'],\n",
    "    'annot_utt':english_data['utt'],\n",
    "    'swahili_utt':swahili_data['utt']\n",
    "    \n",
    "}\n",
    "en_sw=pd.DataFrame(en_sw_dic)\n",
    "en_sw.sample(5)"
   ]
  },
  {
   "cell_type": "markdown",
   "id": "8cd7f6fa-3d4d-4a48-9210-e8bd5c3a6654",
   "metadata": {},
   "source": [
    "I think this should be done for all the languages using a .sh file, I havent figured it out yet"
   ]
  },
  {
   "cell_type": "markdown",
   "id": "b849b3d9-eaad-44e4-9e0b-5eeb2d43512d",
   "metadata": {},
   "source": [
    "Uploading files to google"
   ]
  },
  {
   "cell_type": "code",
   "execution_count": 10,
   "id": "c3de135a-86c2-42ec-a3f4-b7d3f76f048f",
   "metadata": {},
   "outputs": [],
   "source": [
    "\n",
    "\n",
    "access_cred={\n",
    "  \"access_token\": \"ya29.a0AfB_byDT9IGskK8UbNeGcqTJvVWPhPWJWnRO46TpBxWiL0B5SiNdHj2w99G9Rpr2vXNiqJCF-cpDKJjDAFTk-oESPmltHF9BxeucPjJjM2_2AT5-E5h2fyLQc6DPLZqsT3Gir7pHfJmrH8pfZLOYiQo1iNBvf1zRk089aCgYKAXwSARASFQGOcNnCwPPcxrnRPRvcI7S9YkF9Rg0171\", \n",
    "  \"scope\": \"https://www.googleapis.com/auth/drive\", \n",
    "  \"token_type\": \"Bearer\", \n",
    "  \"expires_in\": 3599, \n",
    "  \"refresh_token\": \"1//04pQrCS-ACATMCgYIARAAGAQSNwF-L9Ir4WMBtgUEU9e10-Y29ircM8NVYTSvYanpSuFz-DanCJVsxuNVKL4DPq8iYs-B-ODLnOo\"\n",
    "}\n",
    "\n",
    "api_url=['https://www.googleapis.com/auth/drive']\n",
    "service_account_file='keys.json'\n",
    "parent_folder_id='15hQAbzVfDTgCB3-rXOW7DAVNFiyA4ENL'\n",
    "\n",
    "def auth():\n",
    "    creds=service_account.Credentials.from_service_account_file(service_account_file)\n",
    "    return creds\n",
    "\n",
    "def upload(file_path):\n",
    "    creds=auth()\n",
    "    service=build('drive','v3',credentials=creds)\n",
    "    file_metadata= {\n",
    "        'name':'Hello',\n",
    "        'parents':[parent_folder_id]\n",
    "    }\n",
    "    file=service.files().create(\n",
    "        body=file_metadata,\n",
    "        media_body=file_path\n",
    "    ).execute()"
   ]
  },
  {
   "cell_type": "markdown",
   "id": "d410e89a-8ccd-4f93-b9c7-035f45cc2d87",
   "metadata": {},
   "source": [
    "# Question 2"
   ]
  },
  {
   "cell_type": "markdown",
   "id": "18b9bede-577b-41dc-a4d3-50532313e78e",
   "metadata": {},
   "source": [
    "### For English (en), Swahili (sw) and German (de), generate separate jsonl files with test, train and dev respectively"
   ]
  },
  {
   "cell_type": "markdown",
   "id": "06f24d09-9f47-420a-89f8-840f28fba564",
   "metadata": {},
   "source": [
    "English"
   ]
  },
  {
   "cell_type": "code",
   "execution_count": 52,
   "id": "22354231-5612-49c1-b71d-c7f3615d6c4c",
   "metadata": {},
   "outputs": [],
   "source": [
    "#Get the data\n",
    "english_data=pd.read_json('data//en-US.jsonl',lines=True)\n",
    "\n",
    "eng_test=english_data[english_data['partition']=='test']\n",
    "eng_train=english_data[english_data['partition']=='train']\n",
    "eng_dev=english_data[english_data['partition']=='dev']\n",
    "\n",
    "\n",
    "file=open('generated_files//eng_test.json', 'w')\n",
    "file.write(eng_test.to_json(orient='records',lines=True))\n",
    "file.close()\n",
    "\n",
    "file=open('generated_files//eng_train.json', 'w')\n",
    "file.write(eng_train.to_json(orient='records',lines=True))\n",
    "file.close()\n",
    "\n",
    "file=open('generated_files//eng_dev.json', 'w')\n",
    "file.write(eng_dev.to_json(orient='records',lines=True))\n",
    "file.close()"
   ]
  },
  {
   "cell_type": "markdown",
   "id": "344791f8-46ed-4545-ba2e-43a9a382de12",
   "metadata": {},
   "source": [
    "Kiswahili"
   ]
  },
  {
   "cell_type": "code",
   "execution_count": 53,
   "id": "329f3aea-dd0e-4244-b100-493035391da3",
   "metadata": {},
   "outputs": [],
   "source": [
    "sw_data=pd.read_json('.//data//sw-KE.jsonl' , lines=True)\n",
    "sw_test=sw_data[sw_data['partition']=='test']\n",
    "sw_train=sw_data[sw_data['partition']=='train']\n",
    "sw_dev=sw_data[sw_data['partition']=='dev']\n",
    "\n",
    "\n",
    "file=open('generated_files//sw_test.json', 'w')\n",
    "file.write(sw_test.to_json(orient='records',lines=True))\n",
    "file.close()\n",
    "\n",
    "file=open('generated_files//sw_train.json', 'w')\n",
    "file.write(sw_train.to_json(orient='records',lines=True))\n",
    "file.close()\n",
    "\n",
    "file=open('generated_files//sw_dev.json', 'w')\n",
    "file.write(sw_dev.to_json(orient='records',lines=True))\n",
    "file.close()"
   ]
  },
  {
   "cell_type": "markdown",
   "id": "004847c1-7fe5-48e4-be48-b15a205e31f6",
   "metadata": {},
   "source": [
    "German"
   ]
  },
  {
   "cell_type": "code",
   "execution_count": 54,
   "id": "de4b2551-da24-4da9-bcf3-98c233203e8d",
   "metadata": {},
   "outputs": [],
   "source": [
    "de_data=pd.read_json('.//data//de-DE.jsonl' , lines=True)\n",
    "de_test=de_data[de_data['partition']=='test']\n",
    "de_train=de_data[de_data['partition']=='train']\n",
    "de_dev=de_data[de_data['partition']=='dev']\n",
    "\n",
    "\n",
    "file=open('generated_files//de_test.json', 'w')\n",
    "file.write(de_test.to_json(orient='records',lines=True))\n",
    "file.close()\n",
    "\n",
    "file=open('generated_files//de_train.json', 'w')\n",
    "file.write(de_train.to_json(orient='records',lines=True))\n",
    "file.close()\n",
    "\n",
    "file=open('generated_files//de_dev.json', 'w')\n",
    "file.write(de_dev.to_json(orient='records',lines=True))\n",
    "file.close()"
   ]
  },
  {
   "cell_type": "markdown",
   "id": "7e6a9f44-eaa0-462c-b27d-fce8c79c4fef",
   "metadata": {},
   "source": [
    "### Generate one large json file showing all the translations from en to xx with id and utt for all the train sets."
   ]
  },
  {
   "cell_type": "markdown",
   "id": "f201a9d5-4b1c-4266-8374-058989dd6892",
   "metadata": {},
   "source": [
    "{\n",
    "    'id':0,\n",
    "    'eng-utt':'something',\n",
    "    'translation':{\n",
    "        'kisw-utt':'something',\n",
    "        'de-DU-utt':'something'\n",
    "    }\n",
    "}"
   ]
  },
  {
   "cell_type": "code",
   "execution_count": 47,
   "id": "6f693e17-5e98-48d3-8779-fc246bde6421",
   "metadata": {},
   "outputs": [],
   "source": [
    "large_json_file={}\n",
    "#Prepear the dictionary\n",
    "english_data=pd.read_json('data//en-US.jsonl',lines=True)\n",
    "filtered_eng_data=english_data[english_data['partition']=='train']\n",
    "for i in filtered_eng_data.index:\n",
    "    translation=filtered_eng_data.loc[i,'utt']\n",
    "    lang_dic={\n",
    "        'id':i,\n",
    "        'eng': translation,\n",
    "        'translation':{}\n",
    "    }\n",
    "    large_json_file[i]=lang_dic\n",
    "\n",
    "\n",
    "for file_name in list_of_files:\n",
    "    language=file_name.split('.')[0]\n",
    "    if language!='en-US':\n",
    "        path=str('data//'+file_name)\n",
    "        data_frame=pd.read_json(path,lines=True)\n",
    "        filtered_data=data_frame[data_frame['partition']=='train']\n",
    "        for i in filtered_data.index:\n",
    "            translation=filtered_data.loc[i,'utt']\n",
    "            large_json_file[i]['translation'][language]=translation"
   ]
  },
  {
   "cell_type": "markdown",
   "id": "fbbdf475-df2e-4f50-96db-e1dc4d8bf365",
   "metadata": {},
   "source": [
    "### Pretty print your json file structure. "
   ]
  },
  {
   "cell_type": "code",
   "execution_count": 25,
   "id": "8810210a-a81f-48be-99d1-cacd31ef8ef5",
   "metadata": {},
   "outputs": [
    {
     "data": {
      "text/plain": [
       "{'id': 7,\n",
       " 'eng': 'pause for ten seconds',\n",
       " 'translation': {'af-ZA': 'stop vir tien sekondes',\n",
       "  'am-ET': 'ለአስር ሰከንድ አቁም',\n",
       "  'ar-SA': 'توقف مؤقتا لمدة عشر ثواني',\n",
       "  'az-AZ': 'on saniyə fasilə verin',\n",
       "  'bn-BD': 'দশ সেকেন্ডের জন্য বিরতি',\n",
       "  'cy-GB': 'seibia am ddeg eiliad',\n",
       "  'da-DK': 'pause i ti sekunder',\n",
       "  'de-DE': 'für zehn sekunden pausieren',\n",
       "  'el-GR': 'παύση για δέκα δευτερόλεπτα',\n",
       "  'es-ES': 'para por diez segundos',\n",
       "  'fa-IR': 'برای ده ثانیه مکث کن',\n",
       "  'fi-FI': 'keskeytä kymmeneksi sekunniksi',\n",
       "  'fr-FR': 'pause pendant dix secondes',\n",
       "  'he-IL': 'עצור לעשר שניות',\n",
       "  'hi-IN': 'दस सेकंड के लिए रुकें',\n",
       "  'hu-HU': 'alj le tíz masodpercre',\n",
       "  'hy-AM': 'կանգ առ տաս վայրկյանով',\n",
       "  'id-ID': 'jeda untuk sepuluh detik',\n",
       "  'is-IS': 'pása í tíu sekúndur',\n",
       "  'it-IT': 'metti in pausa per dieci secondi',\n",
       "  'ja-JP': '十秒停止',\n",
       "  'jv-ID': 'endheg ne kanggo sepuluh detik iki',\n",
       "  'ka-GE': 'შეაჩერე ათი წამით',\n",
       "  'km-KH': 'ផ្អាក ដប់ វិនាទី',\n",
       "  'kn-IN': 'ಹತ್ತು ಸೆಕೆಂಡುಗಳ ಕಾಲ ವಿರಾಮಗೊಳಿಸಿ',\n",
       "  'ko-KR': '십초 간 일시정지 해',\n",
       "  'lv-LV': 'nopauzē uz desmit sekundēm',\n",
       "  'ml-IN': 'പത്ത് നിമിഷത്തേക്ക് തല്ക്കാലം നിർത്തി വെക്കൂ',\n",
       "  'mn-MN': 'арван секунд завсарла',\n",
       "  'ms-MY': 'berhenti seketika selama sepuluh saat',\n",
       "  'my-MM': 'တစ်ဆယ်စက္ကန့် ကြာ ရပ်ထားပေးပါ',\n",
       "  'nb-NO': 'pause i ti sekunder',\n",
       "  'nl-NL': 'pauze voor tien seconden',\n",
       "  'pl-PL': 'pauza przez dziesięć sekund',\n",
       "  'pt-PT': 'pausa por dez segundos',\n",
       "  'ro-RO': 'pune pauză pentru zece secunde',\n",
       "  'ru-RU': 'остановись на десять секунд',\n",
       "  'sl-SL': 'pavziraj za deset sekund',\n",
       "  'sq-AL': 'ndalo për dhjetë sekonda',\n",
       "  'sv-SE': 'pausa i tio sekunder',\n",
       "  'sw-KE': 'nyamazisha kwa sekunde kumi',\n",
       "  'ta-IN': 'பத்து நொடிகள் இடைநிறுத்தவும்',\n",
       "  'te-IN': 'పది సెకన్లు పాజ్ చేయండి',\n",
       "  'th-TH': 'หยุดเล่นเป็นเวลา สิบวินาที',\n",
       "  'tl-PH': 'huminto ng sampung segundo',\n",
       "  'tr-TR': 'on saniye duraklat',\n",
       "  'ur-PK': 'دس سیکنڈ کے لیے رکیں',\n",
       "  'vi-VN': 'tạm dừng trong mười giây',\n",
       "  'zh-CN': '暂停十秒钟',\n",
       "  'zh-TW': '暫停十秒'}}"
      ]
     },
     "execution_count": 25,
     "metadata": {},
     "output_type": "execute_result"
    }
   ],
   "source": [
    "large_json_file[7]"
   ]
  },
  {
   "cell_type": "code",
   "execution_count": 55,
   "id": "f38f7e0a-f0ce-4e3e-913e-ee1d690ac2fc",
   "metadata": {},
   "outputs": [],
   "source": [
    "#Writing the new json data to a new file\n",
    "file=open('generated_files//large_json_file.json','w')\n",
    "data=json.dumps(large_json_file)\n",
    "file.write(data)\n",
    "file.close()"
   ]
  },
  {
   "cell_type": "markdown",
   "id": "17388720-7ded-4a33-9a23-10be1673ef2e",
   "metadata": {},
   "source": [
    "### Upload all the files to your Google Drive Backup Folder"
   ]
  },
  {
   "cell_type": "code",
   "execution_count": 49,
   "id": "3475963d-9e8e-4c46-89c4-68b6628351d0",
   "metadata": {},
   "outputs": [],
   "source": [
    "api_url=['https://www.googleapis.com/auth/drive']\n",
    "service_account_file='keys.json'\n",
    "parent_folder_id='15hQAbzVfDTgCB3-rXOW7DAVNFiyA4ENL'\n",
    "\n",
    "def auth():\n",
    "    creds=service_account.Credentials.from_service_account_file(service_account_file)\n",
    "    return creds\n",
    "auth()\n",
    "\n",
    "def upload(path):\n",
    "    creds=auth()\n",
    "    service=build('drive','v3',credentials=creds)\n",
    "    filename=path.split('.')[0]\n",
    "    file_metadata= {\n",
    "        'name':filename,\n",
    "        'parents':[parent_folder_id]\n",
    "    }\n",
    "    file=service.files().create(\n",
    "        body=file_metadata,\n",
    "        media_body=path\n",
    "    ).execute()"
   ]
  },
  {
   "cell_type": "code",
   "execution_count": null,
   "id": "a46819ca-6dd3-4d08-8862-d5059d9649d8",
   "metadata": {},
   "outputs": [
    {
     "name": "stdout",
     "output_type": "stream",
     "text": [
      "Uploading file:de_train.json failed\n"
     ]
    }
   ],
   "source": [
    "#All files in directory\n",
    "files=os.listdir('.//generated_files')\n",
    "for file in files:\n",
    "    try:\n",
    "        upload('generated_files//'+file)\n",
    "    except:\n",
    "        print('Uploading file:'+(file)+' failed')"
   ]
  },
  {
   "cell_type": "code",
   "execution_count": 59,
   "id": "2386e4dc-9981-4b93-b3d1-8c8be332eac6",
   "metadata": {},
   "outputs": [],
   "source": [
    "upload('generated_files//de_dev.json')"
   ]
  }
 ],
 "metadata": {
  "kernelspec": {
   "display_name": "Python 3 (ipykernel)",
   "language": "python",
   "name": "python3"
  },
  "language_info": {
   "codemirror_mode": {
    "name": "ipython",
    "version": 3
   },
   "file_extension": ".py",
   "mimetype": "text/x-python",
   "name": "python",
   "nbconvert_exporter": "python",
   "pygments_lexer": "ipython3",
   "version": "3.11.4"
  }
 },
 "nbformat": 4,
 "nbformat_minor": 5
}
