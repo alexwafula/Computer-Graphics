{
 "cells": [
  {
   "cell_type": "markdown",
   "id": "c08bf8bc-5c7f-482a-8a99-a9c71e5ec356",
   "metadata": {},
   "source": [
    "#### Importing necesary packages"
   ]
  },
  {
   "cell_type": "code",
   "execution_count": 25,
   "id": "2f7b1dc9-a535-4bf1-855a-7262960191f2",
   "metadata": {},
   "outputs": [],
   "source": [
    "import pandas as pd\n",
    "import numpy as np\n",
    "import os\n",
    "import json\n",
    "\n",
    "#Google drive package\n",
    "from googleapiclient.discovery import build\n",
    "from google.oauth2 import service_account\n",
    "from googleapiclient.http import MediaFileUpload\n",
    "\n",
    "import mimetypes"
   ]
  },
  {
   "cell_type": "markdown",
   "id": "b3376344-7ed7-4bd4-8c7e-4a73fe404fa9",
   "metadata": {},
   "source": [
    "# QUESTION 1 - Python3 Development Environment"
   ]
  },
  {
   "cell_type": "markdown",
   "id": "62cdc360-2975-470b-aaff-3cc7cf049734",
   "metadata": {},
   "source": [
    "### Build a Python3 project with the structure of projects in PyCharm then import the MASSIVE Dataset mentioned on the Data File above. "
   ]
  },
  {
   "cell_type": "markdown",
   "id": "25ef4453-a439-433e-87df-6661741fb420",
   "metadata": {},
   "source": [
    "### generate a en-xx.xlxs file for all the languages. using the id, utt and the annot_utt."
   ]
  },
  {
   "cell_type": "code",
   "execution_count": 2,
   "id": "ad4a965b-2ad3-4403-b1d4-76ef27203c35",
   "metadata": {},
   "outputs": [],
   "source": [
    "pivoit_lang='data//en-US.jsonl'"
   ]
  },
  {
   "cell_type": "code",
   "execution_count": 23,
   "id": "aa0e32e8-7e21-4a58-9b25-d7ed052d5b17",
   "metadata": {},
   "outputs": [
    {
     "name": "stdout",
     "output_type": "stream",
     "text": [
      "['af-ZA.jsonl', 'am-ET.jsonl', 'ar-SA.jsonl', 'az-AZ.jsonl', 'bn-BD.jsonl', 'cy-GB.jsonl', 'da-DK.jsonl', 'de-DE.jsonl', 'el-GR.jsonl', 'en-US.jsonl', 'es-ES.jsonl', 'fa-IR.jsonl', 'fi-FI.jsonl', 'fr-FR.jsonl', 'he-IL.jsonl', 'hi-IN.jsonl', 'hu-HU.jsonl', 'hy-AM.jsonl', 'id-ID.jsonl', 'is-IS.jsonl', 'it-IT.jsonl', 'ja-JP.jsonl', 'jv-ID.jsonl', 'ka-GE.jsonl', 'km-KH.jsonl', 'kn-IN.jsonl', 'ko-KR.jsonl', 'lv-LV.jsonl', 'ml-IN.jsonl', 'mn-MN.jsonl', 'ms-MY.jsonl', 'my-MM.jsonl', 'nb-NO.jsonl', 'nl-NL.jsonl', 'pl-PL.jsonl', 'pt-PT.jsonl', 'ro-RO.jsonl', 'ru-RU.jsonl', 'sl-SL.jsonl', 'sq-AL.jsonl', 'sv-SE.jsonl', 'sw-KE.jsonl', 'ta-IN.jsonl', 'te-IN.jsonl', 'th-TH.jsonl', 'tl-PH.jsonl', 'tr-TR.jsonl', 'ur-PK.jsonl', 'vi-VN.jsonl', 'zh-CN.jsonl', 'zh-TW.jsonl']\n"
     ]
    }
   ],
   "source": [
    "list_of_files=os.listdir('data')\n",
    "print(list_of_files)"
   ]
  },
  {
   "cell_type": "code",
   "execution_count": 6,
   "id": "f5f00492-d0ad-4c5f-ae5b-c55587c97103",
   "metadata": {},
   "outputs": [],
   "source": [
    "swahili_data=pd.read_json('data//sw-KE.jsonl', lines=True)\n",
    "english_data=pd.read_json(pivoit_lang,lines=True)"
   ]
  },
  {
   "cell_type": "code",
   "execution_count": 9,
   "id": "4960f3ec-d1d0-489f-9975-644beb5ec07d",
   "metadata": {},
   "outputs": [
    {
     "data": {
      "text/html": [
       "<div>\n",
       "<style scoped>\n",
       "    .dataframe tbody tr th:only-of-type {\n",
       "        vertical-align: middle;\n",
       "    }\n",
       "\n",
       "    .dataframe tbody tr th {\n",
       "        vertical-align: top;\n",
       "    }\n",
       "\n",
       "    .dataframe thead th {\n",
       "        text-align: right;\n",
       "    }\n",
       "</style>\n",
       "<table border=\"1\" class=\"dataframe\">\n",
       "  <thead>\n",
       "    <tr style=\"text-align: right;\">\n",
       "      <th></th>\n",
       "      <th>id</th>\n",
       "      <th>utt</th>\n",
       "      <th>annot_utt</th>\n",
       "      <th>swahili_utt</th>\n",
       "    </tr>\n",
       "  </thead>\n",
       "  <tbody>\n",
       "    <tr>\n",
       "      <th>1022</th>\n",
       "      <td>1059</td>\n",
       "      <td>turn on the robot vacuum cleaner</td>\n",
       "      <td>turn on the robot vacuum cleaner</td>\n",
       "      <td>washa kifyonzi cha roboti</td>\n",
       "    </tr>\n",
       "    <tr>\n",
       "      <th>1066</th>\n",
       "      <td>1103</td>\n",
       "      <td>good afternoon</td>\n",
       "      <td>good afternoon</td>\n",
       "      <td>mchana mwema</td>\n",
       "    </tr>\n",
       "    <tr>\n",
       "      <th>12550</th>\n",
       "      <td>13014</td>\n",
       "      <td>show me a video about new mobile launches this...</td>\n",
       "      <td>show me a video about new mobile launches this...</td>\n",
       "      <td>nionyeshe video kuhusu simu mpya zilizoachiwa ...</td>\n",
       "    </tr>\n",
       "    <tr>\n",
       "      <th>867</th>\n",
       "      <td>903</td>\n",
       "      <td>find new music from jars of clay for me</td>\n",
       "      <td>find new music from jars of clay for me</td>\n",
       "      <td>nitafutie muziki mpya kutoka sam mangwana</td>\n",
       "    </tr>\n",
       "    <tr>\n",
       "      <th>2855</th>\n",
       "      <td>2956</td>\n",
       "      <td>what time are my alarms</td>\n",
       "      <td>what time are my alarms</td>\n",
       "      <td>kengele zangu ni za saa ngapi</td>\n",
       "    </tr>\n",
       "  </tbody>\n",
       "</table>\n",
       "</div>"
      ],
      "text/plain": [
       "          id                                                utt  \\\n",
       "1022    1059                   turn on the robot vacuum cleaner   \n",
       "1066    1103                                     good afternoon   \n",
       "12550  13014  show me a video about new mobile launches this...   \n",
       "867      903            find new music from jars of clay for me   \n",
       "2855    2956                            what time are my alarms   \n",
       "\n",
       "                                               annot_utt  \\\n",
       "1022                    turn on the robot vacuum cleaner   \n",
       "1066                                      good afternoon   \n",
       "12550  show me a video about new mobile launches this...   \n",
       "867              find new music from jars of clay for me   \n",
       "2855                             what time are my alarms   \n",
       "\n",
       "                                             swahili_utt  \n",
       "1022                           washa kifyonzi cha roboti  \n",
       "1066                                        mchana mwema  \n",
       "12550  nionyeshe video kuhusu simu mpya zilizoachiwa ...  \n",
       "867            nitafutie muziki mpya kutoka sam mangwana  \n",
       "2855                       kengele zangu ni za saa ngapi  "
      ]
     },
     "execution_count": 9,
     "metadata": {},
     "output_type": "execute_result"
    }
   ],
   "source": [
    "##New Data\n",
    "en_sw_dic={\n",
    "    'id':english_data.id,\n",
    "    'utt':english_data['utt'],\n",
    "    'annot_utt':english_data['utt'],\n",
    "    'swahili_utt':swahili_data['utt']\n",
    "    \n",
    "}\n",
    "en_sw=pd.DataFrame(en_sw_dic)\n",
    "en_sw.sample(5)"
   ]
  },
  {
   "cell_type": "markdown",
   "id": "8cd7f6fa-3d4d-4a48-9210-e8bd5c3a6654",
   "metadata": {},
   "source": [
    "We need to create a .sh file to run this function"
   ]
  },
  {
   "cell_type": "markdown",
   "id": "b849b3d9-eaad-44e4-9e0b-5eeb2d43512d",
   "metadata": {},
   "source": [
    "Uploading files to google"
   ]
  },
  {
   "cell_type": "code",
   "execution_count": 10,
   "id": "c3de135a-86c2-42ec-a3f4-b7d3f76f048f",
   "metadata": {},
   "outputs": [],
   "source": [
    "\n",
    "\n",
    "access_cred={\n",
    "  \"access_token\": \"ya29.a0AfB_byDT9IGskK8UbNeGcqTJvVWPhPWJWnRO46TpBxWiL0B5SiNdHj2w99G9Rpr2vXNiqJCF-cpDKJjDAFTk-oESPmltHF9BxeucPjJjM2_2AT5-E5h2fyLQc6DPLZqsT3Gir7pHfJmrH8pfZLOYiQo1iNBvf1zRk089aCgYKAXwSARASFQGOcNnCwPPcxrnRPRvcI7S9YkF9Rg0171\", \n",
    "  \"scope\": \"https://www.googleapis.com/auth/drive\", \n",
    "  \"token_type\": \"Bearer\", \n",
    "  \"expires_in\": 3599, \n",
    "  \"refresh_token\": \"1//04pQrCS-ACATMCgYIARAAGAQSNwF-L9Ir4WMBtgUEU9e10-Y29ircM8NVYTSvYanpSuFz-DanCJVsxuNVKL4DPq8iYs-B-ODLnOo\"\n",
    "}\n",
    "\n",
    "api_url=['https://www.googleapis.com/auth/drive']\n",
    "service_account_file='keys.json'\n",
    "parent_folder_id='15hQAbzVfDTgCB3-rXOW7DAVNFiyA4ENL'\n",
    "\n",
    "def auth():\n",
    "    creds=service_account.Credentials.from_service_account_file(service_account_file)\n",
    "    return creds\n",
    "\n",
    "def upload(file_path):\n",
    "    creds=auth()\n",
    "    service=build('drive','v3',credentials=creds)\n",
    "    file_metadata= {\n",
    "        'name':'Hello',\n",
    "        'parents':[parent_folder_id]\n",
    "    }\n",
    "    file=service.files().create(\n",
    "        body=file_metadata,\n",
    "        media_body=file_path\n",
    "    ).execute()"
   ]
  },
  {
   "cell_type": "markdown",
   "id": "d410e89a-8ccd-4f93-b9c7-035f45cc2d87",
   "metadata": {},
   "source": [
    "# Question 2"
   ]
  },
  {
   "cell_type": "markdown",
   "id": "18b9bede-577b-41dc-a4d3-50532313e78e",
   "metadata": {},
   "source": [
    "### For English (en), Swahili (sw) and German (de), generate separate jsonl files with test, train and dev respectively"
   ]
  },
  {
   "cell_type": "markdown",
   "id": "06f24d09-9f47-420a-89f8-840f28fba564",
   "metadata": {},
   "source": [
    "English"
   ]
  },
  {
   "cell_type": "code",
   "execution_count": 52,
   "id": "22354231-5612-49c1-b71d-c7f3615d6c4c",
   "metadata": {},
   "outputs": [],
   "source": [
    "#Get the data\n",
    "english_data=pd.read_json('data//en-US.jsonl',lines=True)\n",
    "\n",
    "eng_test=english_data[english_data['partition']=='test']\n",
    "eng_train=english_data[english_data['partition']=='train']\n",
    "eng_dev=english_data[english_data['partition']=='dev']\n",
    "\n",
    "\n",
    "file=open('generated_files//eng_test.jsonl', 'w')\n",
    "file.write(eng_test.to_json(orient='records',lines=True))\n",
    "file.close()\n",
    "\n",
    "file=open('generated_files//eng_train.jsonl', 'w')\n",
    "file.write(eng_train.to_json(orient='records',lines=True))\n",
    "file.close()\n",
    "\n",
    "file=open('generated_files//eng_dev.jsonl', 'w')\n",
    "file.write(eng_dev.to_json(orient='records',lines=True))\n",
    "file.close()"
   ]
  },
  {
   "cell_type": "markdown",
   "id": "344791f8-46ed-4545-ba2e-43a9a382de12",
   "metadata": {},
   "source": [
    "Kiswahili"
   ]
  },
  {
   "cell_type": "code",
   "execution_count": 53,
   "id": "329f3aea-dd0e-4244-b100-493035391da3",
   "metadata": {},
   "outputs": [],
   "source": [
    "sw_data=pd.read_json('.//data//sw-KE.jsonl' , lines=True)\n",
    "sw_test=sw_data[sw_data['partition']=='test']\n",
    "sw_train=sw_data[sw_data['partition']=='train']\n",
    "sw_dev=sw_data[sw_data['partition']=='dev']\n",
    "\n",
    "\n",
    "file=open('generated_files//sw_test.json', 'w')\n",
    "file.write(sw_test.to_json(orient='records',lines=True))\n",
    "file.close()\n",
    "\n",
    "file=open('generated_files//sw_train.json', 'w')\n",
    "file.write(sw_train.to_json(orient='records',lines=True))\n",
    "file.close()\n",
    "\n",
    "file=open('generated_files//sw_dev.json', 'w')\n",
    "file.write(sw_dev.to_json(orient='records',lines=True))\n",
    "file.close()"
   ]
  },
  {
   "cell_type": "markdown",
   "id": "004847c1-7fe5-48e4-be48-b15a205e31f6",
   "metadata": {},
   "source": [
    "German"
   ]
  },
  {
   "cell_type": "code",
   "execution_count": 54,
   "id": "de4b2551-da24-4da9-bcf3-98c233203e8d",
   "metadata": {},
   "outputs": [],
   "source": [
    "de_data=pd.read_json('.//data//de-DE.jsonl' , lines=True)\n",
    "de_test=de_data[de_data['partition']=='test']\n",
    "de_train=de_data[de_data['partition']=='train']\n",
    "de_dev=de_data[de_data['partition']=='dev']\n",
    "\n",
    "\n",
    "file=open('generated_files//de_test.json', 'w')\n",
    "file.write(de_test.to_json(orient='records',lines=True))\n",
    "file.close()\n",
    "\n",
    "file=open('generated_files//de_train.json', 'w')\n",
    "file.write(de_train.to_json(orient='records',lines=True))\n",
    "file.close()\n",
    "\n",
    "file=open('generated_files//de_dev.json', 'w')\n",
    "file.write(de_dev.to_json(orient='records',lines=True))\n",
    "file.close()"
   ]
  },
  {
   "cell_type": "markdown",
   "id": "7e6a9f44-eaa0-462c-b27d-fce8c79c4fef",
   "metadata": {},
   "source": [
    "### Generate one large json file showing all the translations from en to xx with id and utt for all the train sets."
   ]
  },
  {
   "cell_type": "markdown",
   "id": "f201a9d5-4b1c-4266-8374-058989dd6892",
   "metadata": {},
   "source": [
    "{\n",
    "    'id':0,\n",
    "    'eng-utt':'something',\n",
    "    'translation':{\n",
    "        'kisw-utt':'something',\n",
    "        'de-DU-utt':'something'\n",
    "    }\n",
    "}"
   ]
  },
  {
   "cell_type": "code",
   "execution_count": 47,
   "id": "6f693e17-5e98-48d3-8779-fc246bde6421",
   "metadata": {},
   "outputs": [],
   "source": [
    "large_json_file={}\n",
    "#Prepear the dictionary\n",
    "english_data=pd.read_json('data//en-US.jsonl',lines=True)\n",
    "filtered_eng_data=english_data[english_data['partition']=='train']\n",
    "for i in filtered_eng_data.index:\n",
    "    translation=filtered_eng_data.loc[i,'utt']\n",
    "    lang_dic={\n",
    "        'id':i,\n",
    "        'eng': translation,\n",
    "        'translation':{}\n",
    "    }\n",
    "    large_json_file[i]=lang_dic\n",
    "\n",
    "\n",
    "for file_name in list_of_files:\n",
    "    language=file_name.split('.')[0]\n",
    "    if language!='en-US':\n",
    "        path=str('data//'+file_name)\n",
    "        data_frame=pd.read_json(path,lines=True)\n",
    "        filtered_data=data_frame[data_frame['partition']=='train']\n",
    "        for i in filtered_data.index:\n",
    "            translation=filtered_data.loc[i,'utt']\n",
    "            large_json_file[i]['translation'][language]=translation"
   ]
  },
  {
   "cell_type": "markdown",
   "id": "fbbdf475-df2e-4f50-96db-e1dc4d8bf365",
   "metadata": {},
   "source": [
    "### Pretty print your json file structure. "
   ]
  },
  {
   "cell_type": "code",
   "execution_count": 25,
   "id": "8810210a-a81f-48be-99d1-cacd31ef8ef5",
   "metadata": {},
   "outputs": [
    {
     "data": {
      "text/plain": [
       "{'id': 7,\n",
       " 'eng': 'pause for ten seconds',\n",
       " 'translation': {'af-ZA': 'stop vir tien sekondes',\n",
       "  'am-ET': 'ለአስር ሰከንድ አቁም',\n",
       "  'ar-SA': 'توقف مؤقتا لمدة عشر ثواني',\n",
       "  'az-AZ': 'on saniyə fasilə verin',\n",
       "  'bn-BD': 'দশ সেকেন্ডের জন্য বিরতি',\n",
       "  'cy-GB': 'seibia am ddeg eiliad',\n",
       "  'da-DK': 'pause i ti sekunder',\n",
       "  'de-DE': 'für zehn sekunden pausieren',\n",
       "  'el-GR': 'παύση για δέκα δευτερόλεπτα',\n",
       "  'es-ES': 'para por diez segundos',\n",
       "  'fa-IR': 'برای ده ثانیه مکث کن',\n",
       "  'fi-FI': 'keskeytä kymmeneksi sekunniksi',\n",
       "  'fr-FR': 'pause pendant dix secondes',\n",
       "  'he-IL': 'עצור לעשר שניות',\n",
       "  'hi-IN': 'दस सेकंड के लिए रुकें',\n",
       "  'hu-HU': 'alj le tíz masodpercre',\n",
       "  'hy-AM': 'կանգ առ տաս վայրկյանով',\n",
       "  'id-ID': 'jeda untuk sepuluh detik',\n",
       "  'is-IS': 'pása í tíu sekúndur',\n",
       "  'it-IT': 'metti in pausa per dieci secondi',\n",
       "  'ja-JP': '十秒停止',\n",
       "  'jv-ID': 'endheg ne kanggo sepuluh detik iki',\n",
       "  'ka-GE': 'შეაჩერე ათი წამით',\n",
       "  'km-KH': 'ផ្អាក ដប់ វិនាទី',\n",
       "  'kn-IN': 'ಹತ್ತು ಸೆಕೆಂಡುಗಳ ಕಾಲ ವಿರಾಮಗೊಳಿಸಿ',\n",
       "  'ko-KR': '십초 간 일시정지 해',\n",
       "  'lv-LV': 'nopauzē uz desmit sekundēm',\n",
       "  'ml-IN': 'പത്ത് നിമിഷത്തേക്ക് തല്ക്കാലം നിർത്തി വെക്കൂ',\n",
       "  'mn-MN': 'арван секунд завсарла',\n",
       "  'ms-MY': 'berhenti seketika selama sepuluh saat',\n",
       "  'my-MM': 'တစ်ဆယ်စက္ကန့် ကြာ ရပ်ထားပေးပါ',\n",
       "  'nb-NO': 'pause i ti sekunder',\n",
       "  'nl-NL': 'pauze voor tien seconden',\n",
       "  'pl-PL': 'pauza przez dziesięć sekund',\n",
       "  'pt-PT': 'pausa por dez segundos',\n",
       "  'ro-RO': 'pune pauză pentru zece secunde',\n",
       "  'ru-RU': 'остановись на десять секунд',\n",
       "  'sl-SL': 'pavziraj za deset sekund',\n",
       "  'sq-AL': 'ndalo për dhjetë sekonda',\n",
       "  'sv-SE': 'pausa i tio sekunder',\n",
       "  'sw-KE': 'nyamazisha kwa sekunde kumi',\n",
       "  'ta-IN': 'பத்து நொடிகள் இடைநிறுத்தவும்',\n",
       "  'te-IN': 'పది సెకన్లు పాజ్ చేయండి',\n",
       "  'th-TH': 'หยุดเล่นเป็นเวลา สิบวินาที',\n",
       "  'tl-PH': 'huminto ng sampung segundo',\n",
       "  'tr-TR': 'on saniye duraklat',\n",
       "  'ur-PK': 'دس سیکنڈ کے لیے رکیں',\n",
       "  'vi-VN': 'tạm dừng trong mười giây',\n",
       "  'zh-CN': '暂停十秒钟',\n",
       "  'zh-TW': '暫停十秒'}}"
      ]
     },
     "execution_count": 25,
     "metadata": {},
     "output_type": "execute_result"
    }
   ],
   "source": [
    "large_json_file[7]"
   ]
  },
  {
   "cell_type": "code",
   "execution_count": 55,
   "id": "f38f7e0a-f0ce-4e3e-913e-ee1d690ac2fc",
   "metadata": {},
   "outputs": [],
   "source": [
    "#Writing the new json data to a new file\n",
    "file=open('generated_files//large_json_file.json','w')\n",
    "data=json.dumps(large_json_file)\n",
    "file.write(data)\n",
    "file.close()"
   ]
  },
  {
   "cell_type": "markdown",
   "id": "17388720-7ded-4a33-9a23-10be1673ef2e",
   "metadata": {},
   "source": [
    "### Upload all the files to your Google Drive Backup Folder"
   ]
  },
  {
   "cell_type": "code",
   "execution_count": 3,
   "id": "8fd6e257",
   "metadata": {},
   "outputs": [
    {
     "data": {
      "text/plain": [
       "'c:\\\\Users\\\\user\\\\Desktop\\\\code\\\\python\\\\Computer Graphics\\\\Computer_Graphics\\\\backupfile.zip.zip'"
      ]
     },
     "execution_count": 3,
     "metadata": {},
     "output_type": "execute_result"
    }
   ],
   "source": [
    "import shutil\n",
    "shutil.make_archive('backupfile', 'zip', 'generated_files')"
   ]
  },
  {
   "cell_type": "code",
   "execution_count": 28,
   "id": "3475963d-9e8e-4c46-89c4-68b6628351d0",
   "metadata": {},
   "outputs": [],
   "source": [
    "api_url=['https://www.googleapis.com/auth/drive']\n",
    "service_account_file='keys.json'\n",
    "parent_folder_id='15hQAbzVfDTgCB3-rXOW7DAVNFiyA4ENL'\n",
    "\n",
    "def auth():\n",
    "    creds=service_account.Credentials.from_service_account_file(service_account_file)\n",
    "    return creds\n",
    "\n",
    "def upload(path):\n",
    "    creds=auth()\n",
    "    service=build('drive','v3',credentials=creds)\n",
    "    filename=path.split('.')[0]\n",
    "    mime_type, _ = mimetypes.guess_type(path)\n",
    "    file_metadata= {\n",
    "        'name':filename,\n",
    "        'parents':[parent_folder_id]\n",
    "    }\n",
    "    # Create a media object for the file\n",
    "    media = MediaFileUpload(path, mimetype=mime_type)\n",
    "    file=service.files().create(\n",
    "        body=file_metadata,\n",
    "        media_body=media,\n",
    "        fields='id'\n",
    "    ).execute()"
   ]
  },
  {
   "cell_type": "code",
   "execution_count": 11,
   "id": "a46819ca-6dd3-4d08-8862-d5059d9649d8",
   "metadata": {},
   "outputs": [
    {
     "name": "stdout",
     "output_type": "stream",
     "text": [
      "Uploading file:de_dev.jsonl failed\n",
      "Uploading file:de_test.jsonl failed\n",
      "Uploading file:de_train.jsonl failed\n",
      "Uploading file:en_dev.jsonl failed\n",
      "Uploading file:en_test.jsonl failed\n",
      "Uploading file:en_train.jsonl failed\n",
      "Uploading file:sw_dev.jsonl failed\n",
      "Uploading file:sw_test.jsonl failed\n",
      "Uploading file:sw_train.jsonl failed\n"
     ]
    }
   ],
   "source": [
    "#All files in directory\n",
    "files=os.listdir('.//generated_files')\n",
    "for file in files:\n",
    "    try:\n",
    "        upload('generated_files//'+file)\n",
    "    except:\n",
    "        print('Uploading file:'+(file)+' failed')"
   ]
  },
  {
   "cell_type": "code",
   "execution_count": 29,
   "id": "2386e4dc-9981-4b93-b3d1-8c8be332eac6",
   "metadata": {},
   "outputs": [
    {
     "ename": "TimeoutError",
     "evalue": "The write operation timed out",
     "output_type": "error",
     "traceback": [
      "\u001b[1;31m---------------------------------------------------------------------------\u001b[0m",
      "\u001b[1;31mTimeoutError\u001b[0m                              Traceback (most recent call last)",
      "\u001b[1;32mc:\\Users\\user\\Desktop\\code\\python\\Computer Graphics\\Computer_Graphics\\sketch.ipynb Cell 31\u001b[0m line \u001b[0;36m1\n\u001b[1;32m----> <a href='vscode-notebook-cell:/c%3A/Users/user/Desktop/code/python/Computer%20Graphics/Computer_Graphics/sketch.ipynb#X41sZmlsZQ%3D%3D?line=0'>1</a>\u001b[0m upload(\u001b[39m'\u001b[39;49m\u001b[39mgenerated_files//sw_train.jsonl\u001b[39;49m\u001b[39m'\u001b[39;49m)\n",
      "\u001b[1;32mc:\\Users\\user\\Desktop\\code\\python\\Computer Graphics\\Computer_Graphics\\sketch.ipynb Cell 31\u001b[0m line \u001b[0;36m2\n\u001b[0;32m     <a href='vscode-notebook-cell:/c%3A/Users/user/Desktop/code/python/Computer%20Graphics/Computer_Graphics/sketch.ipynb#X41sZmlsZQ%3D%3D?line=17'>18</a>\u001b[0m \u001b[39m# Create a media object for the file\u001b[39;00m\n\u001b[0;32m     <a href='vscode-notebook-cell:/c%3A/Users/user/Desktop/code/python/Computer%20Graphics/Computer_Graphics/sketch.ipynb#X41sZmlsZQ%3D%3D?line=18'>19</a>\u001b[0m media \u001b[39m=\u001b[39m MediaFileUpload(path, mimetype\u001b[39m=\u001b[39mmime_type)\n\u001b[0;32m     <a href='vscode-notebook-cell:/c%3A/Users/user/Desktop/code/python/Computer%20Graphics/Computer_Graphics/sketch.ipynb#X41sZmlsZQ%3D%3D?line=19'>20</a>\u001b[0m file\u001b[39m=\u001b[39mservice\u001b[39m.\u001b[39;49mfiles()\u001b[39m.\u001b[39;49mcreate(\n\u001b[0;32m     <a href='vscode-notebook-cell:/c%3A/Users/user/Desktop/code/python/Computer%20Graphics/Computer_Graphics/sketch.ipynb#X41sZmlsZQ%3D%3D?line=20'>21</a>\u001b[0m     body\u001b[39m=\u001b[39;49mfile_metadata,\n\u001b[0;32m     <a href='vscode-notebook-cell:/c%3A/Users/user/Desktop/code/python/Computer%20Graphics/Computer_Graphics/sketch.ipynb#X41sZmlsZQ%3D%3D?line=21'>22</a>\u001b[0m     media_body\u001b[39m=\u001b[39;49mmedia,\n\u001b[0;32m     <a href='vscode-notebook-cell:/c%3A/Users/user/Desktop/code/python/Computer%20Graphics/Computer_Graphics/sketch.ipynb#X41sZmlsZQ%3D%3D?line=22'>23</a>\u001b[0m     fields\u001b[39m=\u001b[39;49m\u001b[39m'\u001b[39;49m\u001b[39mid\u001b[39;49m\u001b[39m'\u001b[39;49m\n\u001b[1;32m---> <a href='vscode-notebook-cell:/c%3A/Users/user/Desktop/code/python/Computer%20Graphics/Computer_Graphics/sketch.ipynb#X41sZmlsZQ%3D%3D?line=23'>24</a>\u001b[0m )\u001b[39m.\u001b[39;49mexecute()\n",
      "File \u001b[1;32mC:\\Python311\\Lib\\site-packages\\googleapiclient\\_helpers.py:130\u001b[0m, in \u001b[0;36mpositional.<locals>.positional_decorator.<locals>.positional_wrapper\u001b[1;34m(*args, **kwargs)\u001b[0m\n\u001b[0;32m    128\u001b[0m     \u001b[39melif\u001b[39;00m positional_parameters_enforcement \u001b[39m==\u001b[39m POSITIONAL_WARNING:\n\u001b[0;32m    129\u001b[0m         logger\u001b[39m.\u001b[39mwarning(message)\n\u001b[1;32m--> 130\u001b[0m \u001b[39mreturn\u001b[39;00m wrapped(\u001b[39m*\u001b[39;49margs, \u001b[39m*\u001b[39;49m\u001b[39m*\u001b[39;49mkwargs)\n",
      "File \u001b[1;32mC:\\Python311\\Lib\\site-packages\\googleapiclient\\http.py:923\u001b[0m, in \u001b[0;36mHttpRequest.execute\u001b[1;34m(self, http, num_retries)\u001b[0m\n\u001b[0;32m    920\u001b[0m     \u001b[39mself\u001b[39m\u001b[39m.\u001b[39mheaders[\u001b[39m\"\u001b[39m\u001b[39mcontent-length\u001b[39m\u001b[39m\"\u001b[39m] \u001b[39m=\u001b[39m \u001b[39mstr\u001b[39m(\u001b[39mlen\u001b[39m(\u001b[39mself\u001b[39m\u001b[39m.\u001b[39mbody))\n\u001b[0;32m    922\u001b[0m \u001b[39m# Handle retries for server-side errors.\u001b[39;00m\n\u001b[1;32m--> 923\u001b[0m resp, content \u001b[39m=\u001b[39m _retry_request(\n\u001b[0;32m    924\u001b[0m     http,\n\u001b[0;32m    925\u001b[0m     num_retries,\n\u001b[0;32m    926\u001b[0m     \u001b[39m\"\u001b[39;49m\u001b[39mrequest\u001b[39;49m\u001b[39m\"\u001b[39;49m,\n\u001b[0;32m    927\u001b[0m     \u001b[39mself\u001b[39;49m\u001b[39m.\u001b[39;49m_sleep,\n\u001b[0;32m    928\u001b[0m     \u001b[39mself\u001b[39;49m\u001b[39m.\u001b[39;49m_rand,\n\u001b[0;32m    929\u001b[0m     \u001b[39mstr\u001b[39;49m(\u001b[39mself\u001b[39;49m\u001b[39m.\u001b[39;49muri),\n\u001b[0;32m    930\u001b[0m     method\u001b[39m=\u001b[39;49m\u001b[39mstr\u001b[39;49m(\u001b[39mself\u001b[39;49m\u001b[39m.\u001b[39;49mmethod),\n\u001b[0;32m    931\u001b[0m     body\u001b[39m=\u001b[39;49m\u001b[39mself\u001b[39;49m\u001b[39m.\u001b[39;49mbody,\n\u001b[0;32m    932\u001b[0m     headers\u001b[39m=\u001b[39;49m\u001b[39mself\u001b[39;49m\u001b[39m.\u001b[39;49mheaders,\n\u001b[0;32m    933\u001b[0m )\n\u001b[0;32m    935\u001b[0m \u001b[39mfor\u001b[39;00m callback \u001b[39min\u001b[39;00m \u001b[39mself\u001b[39m\u001b[39m.\u001b[39mresponse_callbacks:\n\u001b[0;32m    936\u001b[0m     callback(resp)\n",
      "File \u001b[1;32mC:\\Python311\\Lib\\site-packages\\googleapiclient\\http.py:222\u001b[0m, in \u001b[0;36m_retry_request\u001b[1;34m(http, num_retries, req_type, sleep, rand, uri, method, *args, **kwargs)\u001b[0m\n\u001b[0;32m    220\u001b[0m \u001b[39mif\u001b[39;00m exception:\n\u001b[0;32m    221\u001b[0m     \u001b[39mif\u001b[39;00m retry_num \u001b[39m==\u001b[39m num_retries:\n\u001b[1;32m--> 222\u001b[0m         \u001b[39mraise\u001b[39;00m exception\n\u001b[0;32m    223\u001b[0m     \u001b[39melse\u001b[39;00m:\n\u001b[0;32m    224\u001b[0m         \u001b[39mcontinue\u001b[39;00m\n",
      "File \u001b[1;32mC:\\Python311\\Lib\\site-packages\\googleapiclient\\http.py:191\u001b[0m, in \u001b[0;36m_retry_request\u001b[1;34m(http, num_retries, req_type, sleep, rand, uri, method, *args, **kwargs)\u001b[0m\n\u001b[0;32m    189\u001b[0m \u001b[39mtry\u001b[39;00m:\n\u001b[0;32m    190\u001b[0m     exception \u001b[39m=\u001b[39m \u001b[39mNone\u001b[39;00m\n\u001b[1;32m--> 191\u001b[0m     resp, content \u001b[39m=\u001b[39m http\u001b[39m.\u001b[39;49mrequest(uri, method, \u001b[39m*\u001b[39;49margs, \u001b[39m*\u001b[39;49m\u001b[39m*\u001b[39;49mkwargs)\n\u001b[0;32m    192\u001b[0m \u001b[39m# Retry on SSL errors and socket timeout errors.\u001b[39;00m\n\u001b[0;32m    193\u001b[0m \u001b[39mexcept\u001b[39;00m _ssl_SSLError \u001b[39mas\u001b[39;00m ssl_error:\n",
      "File \u001b[1;32mC:\\Python311\\Lib\\site-packages\\google_auth_httplib2.py:218\u001b[0m, in \u001b[0;36mAuthorizedHttp.request\u001b[1;34m(self, uri, method, body, headers, redirections, connection_type, **kwargs)\u001b[0m\n\u001b[0;32m    215\u001b[0m     body_stream_position \u001b[39m=\u001b[39m body\u001b[39m.\u001b[39mtell()\n\u001b[0;32m    217\u001b[0m \u001b[39m# Make the request.\u001b[39;00m\n\u001b[1;32m--> 218\u001b[0m response, content \u001b[39m=\u001b[39m \u001b[39mself\u001b[39;49m\u001b[39m.\u001b[39;49mhttp\u001b[39m.\u001b[39;49mrequest(\n\u001b[0;32m    219\u001b[0m     uri,\n\u001b[0;32m    220\u001b[0m     method,\n\u001b[0;32m    221\u001b[0m     body\u001b[39m=\u001b[39;49mbody,\n\u001b[0;32m    222\u001b[0m     headers\u001b[39m=\u001b[39;49mrequest_headers,\n\u001b[0;32m    223\u001b[0m     redirections\u001b[39m=\u001b[39;49mredirections,\n\u001b[0;32m    224\u001b[0m     connection_type\u001b[39m=\u001b[39;49mconnection_type,\n\u001b[0;32m    225\u001b[0m     \u001b[39m*\u001b[39;49m\u001b[39m*\u001b[39;49mkwargs\n\u001b[0;32m    226\u001b[0m )\n\u001b[0;32m    228\u001b[0m \u001b[39m# If the response indicated that the credentials needed to be\u001b[39;00m\n\u001b[0;32m    229\u001b[0m \u001b[39m# refreshed, then refresh the credentials and re-attempt the\u001b[39;00m\n\u001b[0;32m    230\u001b[0m \u001b[39m# request.\u001b[39;00m\n\u001b[0;32m    231\u001b[0m \u001b[39m# A stored token may expire between the time it is retrieved and\u001b[39;00m\n\u001b[0;32m    232\u001b[0m \u001b[39m# the time the request is made, so we may need to try twice.\u001b[39;00m\n\u001b[0;32m    233\u001b[0m \u001b[39mif\u001b[39;00m (\n\u001b[0;32m    234\u001b[0m     response\u001b[39m.\u001b[39mstatus \u001b[39min\u001b[39;00m \u001b[39mself\u001b[39m\u001b[39m.\u001b[39m_refresh_status_codes\n\u001b[0;32m    235\u001b[0m     \u001b[39mand\u001b[39;00m _credential_refresh_attempt \u001b[39m<\u001b[39m \u001b[39mself\u001b[39m\u001b[39m.\u001b[39m_max_refresh_attempts\n\u001b[0;32m    236\u001b[0m ):\n",
      "File \u001b[1;32mC:\\Python311\\Lib\\site-packages\\httplib2\\__init__.py:1724\u001b[0m, in \u001b[0;36mHttp.request\u001b[1;34m(self, uri, method, body, headers, redirections, connection_type)\u001b[0m\n\u001b[0;32m   1722\u001b[0m             content \u001b[39m=\u001b[39m \u001b[39mb\u001b[39m\u001b[39m\"\u001b[39m\u001b[39m\"\u001b[39m\n\u001b[0;32m   1723\u001b[0m         \u001b[39melse\u001b[39;00m:\n\u001b[1;32m-> 1724\u001b[0m             (response, content) \u001b[39m=\u001b[39m \u001b[39mself\u001b[39;49m\u001b[39m.\u001b[39;49m_request(\n\u001b[0;32m   1725\u001b[0m                 conn, authority, uri, request_uri, method, body, headers, redirections, cachekey,\n\u001b[0;32m   1726\u001b[0m             )\n\u001b[0;32m   1727\u001b[0m \u001b[39mexcept\u001b[39;00m \u001b[39mException\u001b[39;00m \u001b[39mas\u001b[39;00m e:\n\u001b[0;32m   1728\u001b[0m     is_timeout \u001b[39m=\u001b[39m \u001b[39misinstance\u001b[39m(e, socket\u001b[39m.\u001b[39mtimeout)\n",
      "File \u001b[1;32mC:\\Python311\\Lib\\site-packages\\httplib2\\__init__.py:1444\u001b[0m, in \u001b[0;36mHttp._request\u001b[1;34m(self, conn, host, absolute_uri, request_uri, method, body, headers, redirections, cachekey)\u001b[0m\n\u001b[0;32m   1441\u001b[0m \u001b[39mif\u001b[39;00m auth:\n\u001b[0;32m   1442\u001b[0m     auth\u001b[39m.\u001b[39mrequest(method, request_uri, headers, body)\n\u001b[1;32m-> 1444\u001b[0m (response, content) \u001b[39m=\u001b[39m \u001b[39mself\u001b[39;49m\u001b[39m.\u001b[39;49m_conn_request(conn, request_uri, method, body, headers)\n\u001b[0;32m   1446\u001b[0m \u001b[39mif\u001b[39;00m auth:\n\u001b[0;32m   1447\u001b[0m     \u001b[39mif\u001b[39;00m auth\u001b[39m.\u001b[39mresponse(response, body):\n",
      "File \u001b[1;32mC:\\Python311\\Lib\\site-packages\\httplib2\\__init__.py:1367\u001b[0m, in \u001b[0;36mHttp._conn_request\u001b[1;34m(self, conn, request_uri, method, body, headers)\u001b[0m\n\u001b[0;32m   1365\u001b[0m     \u001b[39mif\u001b[39;00m conn\u001b[39m.\u001b[39msock \u001b[39mis\u001b[39;00m \u001b[39mNone\u001b[39;00m:\n\u001b[0;32m   1366\u001b[0m         conn\u001b[39m.\u001b[39mconnect()\n\u001b[1;32m-> 1367\u001b[0m     conn\u001b[39m.\u001b[39;49mrequest(method, request_uri, body, headers)\n\u001b[0;32m   1368\u001b[0m \u001b[39mexcept\u001b[39;00m socket\u001b[39m.\u001b[39mtimeout:\n\u001b[0;32m   1369\u001b[0m     conn\u001b[39m.\u001b[39mclose()\n",
      "File \u001b[1;32mC:\\Python311\\Lib\\http\\client.py:1286\u001b[0m, in \u001b[0;36mHTTPConnection.request\u001b[1;34m(self, method, url, body, headers, encode_chunked)\u001b[0m\n\u001b[0;32m   1283\u001b[0m \u001b[39mdef\u001b[39;00m \u001b[39mrequest\u001b[39m(\u001b[39mself\u001b[39m, method, url, body\u001b[39m=\u001b[39m\u001b[39mNone\u001b[39;00m, headers\u001b[39m=\u001b[39m{}, \u001b[39m*\u001b[39m,\n\u001b[0;32m   1284\u001b[0m             encode_chunked\u001b[39m=\u001b[39m\u001b[39mFalse\u001b[39;00m):\n\u001b[0;32m   1285\u001b[0m \u001b[39m    \u001b[39m\u001b[39m\"\"\"Send a complete request to the server.\"\"\"\u001b[39;00m\n\u001b[1;32m-> 1286\u001b[0m     \u001b[39mself\u001b[39;49m\u001b[39m.\u001b[39;49m_send_request(method, url, body, headers, encode_chunked)\n",
      "File \u001b[1;32mC:\\Python311\\Lib\\http\\client.py:1332\u001b[0m, in \u001b[0;36mHTTPConnection._send_request\u001b[1;34m(self, method, url, body, headers, encode_chunked)\u001b[0m\n\u001b[0;32m   1328\u001b[0m \u001b[39mif\u001b[39;00m \u001b[39misinstance\u001b[39m(body, \u001b[39mstr\u001b[39m):\n\u001b[0;32m   1329\u001b[0m     \u001b[39m# RFC 2616 Section 3.7.1 says that text default has a\u001b[39;00m\n\u001b[0;32m   1330\u001b[0m     \u001b[39m# default charset of iso-8859-1.\u001b[39;00m\n\u001b[0;32m   1331\u001b[0m     body \u001b[39m=\u001b[39m _encode(body, \u001b[39m'\u001b[39m\u001b[39mbody\u001b[39m\u001b[39m'\u001b[39m)\n\u001b[1;32m-> 1332\u001b[0m \u001b[39mself\u001b[39;49m\u001b[39m.\u001b[39;49mendheaders(body, encode_chunked\u001b[39m=\u001b[39;49mencode_chunked)\n",
      "File \u001b[1;32mC:\\Python311\\Lib\\http\\client.py:1281\u001b[0m, in \u001b[0;36mHTTPConnection.endheaders\u001b[1;34m(self, message_body, encode_chunked)\u001b[0m\n\u001b[0;32m   1279\u001b[0m \u001b[39melse\u001b[39;00m:\n\u001b[0;32m   1280\u001b[0m     \u001b[39mraise\u001b[39;00m CannotSendHeader()\n\u001b[1;32m-> 1281\u001b[0m \u001b[39mself\u001b[39;49m\u001b[39m.\u001b[39;49m_send_output(message_body, encode_chunked\u001b[39m=\u001b[39;49mencode_chunked)\n",
      "File \u001b[1;32mC:\\Python311\\Lib\\http\\client.py:1080\u001b[0m, in \u001b[0;36mHTTPConnection._send_output\u001b[1;34m(self, message_body, encode_chunked)\u001b[0m\n\u001b[0;32m   1076\u001b[0m     \u001b[39mif\u001b[39;00m encode_chunked \u001b[39mand\u001b[39;00m \u001b[39mself\u001b[39m\u001b[39m.\u001b[39m_http_vsn \u001b[39m==\u001b[39m \u001b[39m11\u001b[39m:\n\u001b[0;32m   1077\u001b[0m         \u001b[39m# chunked encoding\u001b[39;00m\n\u001b[0;32m   1078\u001b[0m         chunk \u001b[39m=\u001b[39m \u001b[39mf\u001b[39m\u001b[39m'\u001b[39m\u001b[39m{\u001b[39;00m\u001b[39mlen\u001b[39m(chunk)\u001b[39m:\u001b[39;00m\u001b[39mX\u001b[39m\u001b[39m}\u001b[39;00m\u001b[39m\\r\u001b[39;00m\u001b[39m\\n\u001b[39;00m\u001b[39m'\u001b[39m\u001b[39m.\u001b[39mencode(\u001b[39m'\u001b[39m\u001b[39mascii\u001b[39m\u001b[39m'\u001b[39m) \u001b[39m+\u001b[39m chunk \\\n\u001b[0;32m   1079\u001b[0m             \u001b[39m+\u001b[39m \u001b[39mb\u001b[39m\u001b[39m'\u001b[39m\u001b[39m\\r\u001b[39;00m\u001b[39m\\n\u001b[39;00m\u001b[39m'\u001b[39m\n\u001b[1;32m-> 1080\u001b[0m     \u001b[39mself\u001b[39;49m\u001b[39m.\u001b[39;49msend(chunk)\n\u001b[0;32m   1082\u001b[0m \u001b[39mif\u001b[39;00m encode_chunked \u001b[39mand\u001b[39;00m \u001b[39mself\u001b[39m\u001b[39m.\u001b[39m_http_vsn \u001b[39m==\u001b[39m \u001b[39m11\u001b[39m:\n\u001b[0;32m   1083\u001b[0m     \u001b[39m# end chunked transfer\u001b[39;00m\n\u001b[0;32m   1084\u001b[0m     \u001b[39mself\u001b[39m\u001b[39m.\u001b[39msend(\u001b[39mb\u001b[39m\u001b[39m'\u001b[39m\u001b[39m0\u001b[39m\u001b[39m\\r\u001b[39;00m\u001b[39m\\n\u001b[39;00m\u001b[39m\\r\u001b[39;00m\u001b[39m\\n\u001b[39;00m\u001b[39m'\u001b[39m)\n",
      "File \u001b[1;32mC:\\Python311\\Lib\\http\\client.py:1002\u001b[0m, in \u001b[0;36mHTTPConnection.send\u001b[1;34m(self, data)\u001b[0m\n\u001b[0;32m   1000\u001b[0m sys\u001b[39m.\u001b[39maudit(\u001b[39m\"\u001b[39m\u001b[39mhttp.client.send\u001b[39m\u001b[39m\"\u001b[39m, \u001b[39mself\u001b[39m, data)\n\u001b[0;32m   1001\u001b[0m \u001b[39mtry\u001b[39;00m:\n\u001b[1;32m-> 1002\u001b[0m     \u001b[39mself\u001b[39;49m\u001b[39m.\u001b[39;49msock\u001b[39m.\u001b[39;49msendall(data)\n\u001b[0;32m   1003\u001b[0m \u001b[39mexcept\u001b[39;00m \u001b[39mTypeError\u001b[39;00m:\n\u001b[0;32m   1004\u001b[0m     \u001b[39mif\u001b[39;00m \u001b[39misinstance\u001b[39m(data, collections\u001b[39m.\u001b[39mabc\u001b[39m.\u001b[39mIterable):\n",
      "File \u001b[1;32mC:\\Python311\\Lib\\ssl.py:1241\u001b[0m, in \u001b[0;36mSSLSocket.sendall\u001b[1;34m(self, data, flags)\u001b[0m\n\u001b[0;32m   1239\u001b[0m         amount \u001b[39m=\u001b[39m \u001b[39mlen\u001b[39m(byte_view)\n\u001b[0;32m   1240\u001b[0m         \u001b[39mwhile\u001b[39;00m count \u001b[39m<\u001b[39m amount:\n\u001b[1;32m-> 1241\u001b[0m             v \u001b[39m=\u001b[39m \u001b[39mself\u001b[39;49m\u001b[39m.\u001b[39;49msend(byte_view[count:])\n\u001b[0;32m   1242\u001b[0m             count \u001b[39m+\u001b[39m\u001b[39m=\u001b[39m v\n\u001b[0;32m   1243\u001b[0m \u001b[39melse\u001b[39;00m:\n",
      "File \u001b[1;32mC:\\Python311\\Lib\\ssl.py:1210\u001b[0m, in \u001b[0;36mSSLSocket.send\u001b[1;34m(self, data, flags)\u001b[0m\n\u001b[0;32m   1206\u001b[0m     \u001b[39mif\u001b[39;00m flags \u001b[39m!=\u001b[39m \u001b[39m0\u001b[39m:\n\u001b[0;32m   1207\u001b[0m         \u001b[39mraise\u001b[39;00m \u001b[39mValueError\u001b[39;00m(\n\u001b[0;32m   1208\u001b[0m             \u001b[39m\"\u001b[39m\u001b[39mnon-zero flags not allowed in calls to send() on \u001b[39m\u001b[39m%s\u001b[39;00m\u001b[39m\"\u001b[39m \u001b[39m%\u001b[39m\n\u001b[0;32m   1209\u001b[0m             \u001b[39mself\u001b[39m\u001b[39m.\u001b[39m\u001b[39m__class__\u001b[39m)\n\u001b[1;32m-> 1210\u001b[0m     \u001b[39mreturn\u001b[39;00m \u001b[39mself\u001b[39m\u001b[39m.\u001b[39m_sslobj\u001b[39m.\u001b[39mwrite(data)\n\u001b[0;32m   1211\u001b[0m \u001b[39melse\u001b[39;00m:\n\u001b[0;32m   1212\u001b[0m     \u001b[39mreturn\u001b[39;00m \u001b[39msuper\u001b[39m()\u001b[39m.\u001b[39msend(data, flags)\n",
      "\u001b[1;31mTimeoutError\u001b[0m: The write operation timed out"
     ]
    }
   ],
   "source": [
    "upload('generated_files//sw_train.jsonl')"
   ]
  }
 ],
 "metadata": {
  "kernelspec": {
   "display_name": "Python 3 (ipykernel)",
   "language": "python",
   "name": "python3"
  },
  "language_info": {
   "codemirror_mode": {
    "name": "ipython",
    "version": 3
   },
   "file_extension": ".py",
   "mimetype": "text/x-python",
   "name": "python",
   "nbconvert_exporter": "python",
   "pygments_lexer": "ipython3",
   "version": "3.11.4"
  }
 },
 "nbformat": 4,
 "nbformat_minor": 5
}
